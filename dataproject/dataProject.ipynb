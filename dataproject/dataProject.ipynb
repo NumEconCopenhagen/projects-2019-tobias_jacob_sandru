{
 "cells": [
  {
   "cell_type": "markdown",
   "metadata": {},
   "source": [
    "The notebook does not work unless you've installed the API from Denmarks Statistics.\n",
    "You do that by copying the below code, closing down Jupyter Lab, and pasting in Terminal/Anaconda Promt.\n"
   ]
  },
  {
   "cell_type": "markdown",
   "metadata": {},
   "source": [
    "*pip install git+https://github.com/elben10/pydst*"
   ]
  },
  {
   "cell_type": "markdown",
   "metadata": {},
   "source": [
    "# Section 1"
   ]
  },
  {
   "cell_type": "markdown",
   "metadata": {},
   "source": [
    "## Importing modules"
   ]
  },
  {
   "cell_type": "code",
   "execution_count": 3,
   "metadata": {},
   "outputs": [],
   "source": [
    "import pandas as pd\n",
    "import numpy as np\n",
    "import matplotlib\n",
    "import matplotlib.pyplot as plt\n",
    "from matplotlib.ticker import FormatStrFormatter\n",
    "from ipywidgets import interact, interactive, fixed, interact_manual\n",
    "import ipywidgets as widgets\n",
    "import pydst\n",
    "import time\n",
    "from IPython import display\n",
    "\n",
    "Dst = pydst.Dst(lang='en') #A 'shortcut' for using the API from Denmark Statitics (in English)"
   ]
  },
  {
   "cell_type": "markdown",
   "metadata": {},
   "source": [
    "# Section 2: Projection of the Danish population"
   ]
  },
  {
   "cell_type": "markdown",
   "metadata": {},
   "source": [
    "## Below we will plot the underlying dynamics in the population projection"
   ]
  },
  {
   "cell_type": "markdown",
   "metadata": {},
   "source": [
    "### Collecting and cleaning the population projection data from Denmark Statistics"
   ]
  },
  {
   "cell_type": "code",
   "execution_count": 6,
   "metadata": {},
   "outputs": [
    {
     "data": {
      "text/html": [
       "<div>\n",
       "<style scoped>\n",
       "    .dataframe tbody tr th:only-of-type {\n",
       "        vertical-align: middle;\n",
       "    }\n",
       "\n",
       "    .dataframe tbody tr th {\n",
       "        vertical-align: top;\n",
       "    }\n",
       "\n",
       "    .dataframe thead th {\n",
       "        text-align: right;\n",
       "    }\n",
       "</style>\n",
       "<table border=\"1\" class=\"dataframe\">\n",
       "  <thead>\n",
       "    <tr style=\"text-align: right;\">\n",
       "      <th></th>\n",
       "      <th>HERKOMST</th>\n",
       "      <th>BEVÆGELSE</th>\n",
       "      <th>TID</th>\n",
       "      <th>INDHOLD</th>\n",
       "    </tr>\n",
       "  </thead>\n",
       "  <tbody>\n",
       "    <tr>\n",
       "      <th>0</th>\n",
       "      <td>Immigrants from non-western countries</td>\n",
       "      <td>Population primo</td>\n",
       "      <td>2018</td>\n",
       "      <td>343805</td>\n",
       "    </tr>\n",
       "    <tr>\n",
       "      <th>1</th>\n",
       "      <td>Descendants from western countries</td>\n",
       "      <td>Population primo</td>\n",
       "      <td>2018</td>\n",
       "      <td>29056</td>\n",
       "    </tr>\n",
       "    <tr>\n",
       "      <th>2</th>\n",
       "      <td>Persons of danish origin</td>\n",
       "      <td>Population primo</td>\n",
       "      <td>2018</td>\n",
       "      <td>5010793</td>\n",
       "    </tr>\n",
       "    <tr>\n",
       "      <th>3</th>\n",
       "      <td>Immigrants from western countries</td>\n",
       "      <td>Population primo</td>\n",
       "      <td>2018</td>\n",
       "      <td>247873</td>\n",
       "    </tr>\n",
       "    <tr>\n",
       "      <th>4</th>\n",
       "      <td>Descendants from non-western countries</td>\n",
       "      <td>Population primo</td>\n",
       "      <td>2018</td>\n",
       "      <td>149663</td>\n",
       "    </tr>\n",
       "  </tbody>\n",
       "</table>\n",
       "</div>"
      ],
      "text/plain": [
       "                                 HERKOMST         BEVÆGELSE   TID  INDHOLD\n",
       "0   Immigrants from non-western countries  Population primo  2018   343805\n",
       "1      Descendants from western countries  Population primo  2018    29056\n",
       "2                Persons of danish origin  Population primo  2018  5010793\n",
       "3       Immigrants from western countries  Population primo  2018   247873\n",
       "4  Descendants from non-western countries  Population primo  2018   149663"
      ]
     },
     "execution_count": 6,
     "metadata": {},
     "output_type": "execute_result"
    }
   ],
   "source": [
    "#Collecting the full data set from DST\n",
    "projdata = Dst.get_data(table_id = 'FRDK218', variables={'HERKOMST':['*'],'BEVÆGELSE':['*'], 'TID':['*']})\n",
    "projdata.head()"
   ]
  },
  {
   "cell_type": "code",
   "execution_count": 7,
   "metadata": {},
   "outputs": [
    {
     "data": {
      "text/html": [
       "<div>\n",
       "<style scoped>\n",
       "    .dataframe tbody tr th:only-of-type {\n",
       "        vertical-align: middle;\n",
       "    }\n",
       "\n",
       "    .dataframe tbody tr th {\n",
       "        vertical-align: top;\n",
       "    }\n",
       "\n",
       "    .dataframe thead th {\n",
       "        text-align: right;\n",
       "    }\n",
       "</style>\n",
       "<table border=\"1\" class=\"dataframe\">\n",
       "  <thead>\n",
       "    <tr style=\"text-align: right;\">\n",
       "      <th>BEVÆGELSE</th>\n",
       "      <th>TID</th>\n",
       "      <th>Deaths</th>\n",
       "      <th>Emigrated</th>\n",
       "      <th>Immigrated</th>\n",
       "      <th>Livebirths</th>\n",
       "      <th>Population primo</th>\n",
       "    </tr>\n",
       "  </thead>\n",
       "  <tbody>\n",
       "    <tr>\n",
       "      <th>0</th>\n",
       "      <td>2018</td>\n",
       "      <td>53443</td>\n",
       "      <td>50522</td>\n",
       "      <td>72883</td>\n",
       "      <td>64179</td>\n",
       "      <td>5781190</td>\n",
       "    </tr>\n",
       "    <tr>\n",
       "      <th>1</th>\n",
       "      <td>2019</td>\n",
       "      <td>53741</td>\n",
       "      <td>51555</td>\n",
       "      <td>70526</td>\n",
       "      <td>65293</td>\n",
       "      <td>5814283</td>\n",
       "    </tr>\n",
       "    <tr>\n",
       "      <th>2</th>\n",
       "      <td>2020</td>\n",
       "      <td>54104</td>\n",
       "      <td>52194</td>\n",
       "      <td>68509</td>\n",
       "      <td>66378</td>\n",
       "      <td>5844805</td>\n",
       "    </tr>\n",
       "    <tr>\n",
       "      <th>3</th>\n",
       "      <td>2021</td>\n",
       "      <td>54534</td>\n",
       "      <td>52535</td>\n",
       "      <td>67005</td>\n",
       "      <td>67497</td>\n",
       "      <td>5873392</td>\n",
       "    </tr>\n",
       "    <tr>\n",
       "      <th>4</th>\n",
       "      <td>2022</td>\n",
       "      <td>55037</td>\n",
       "      <td>52717</td>\n",
       "      <td>65965</td>\n",
       "      <td>68718</td>\n",
       "      <td>5900824</td>\n",
       "    </tr>\n",
       "  </tbody>\n",
       "</table>\n",
       "</div>"
      ],
      "text/plain": [
       "BEVÆGELSE   TID  Deaths  Emigrated  Immigrated  Livebirths  Population primo\n",
       "0          2018   53443      50522       72883       64179           5781190\n",
       "1          2019   53741      51555       70526       65293           5814283\n",
       "2          2020   54104      52194       68509       66378           5844805\n",
       "3          2021   54534      52535       67005       67497           5873392\n",
       "4          2022   55037      52717       65965       68718           5900824"
      ]
     },
     "execution_count": 7,
     "metadata": {},
     "output_type": "execute_result"
    }
   ],
   "source": [
    "#As we are not interested in dynamics dependent on origin, we sum on that column.\n",
    "proj_data=projdata.groupby(['BEVÆGELSE','TID'])['INDHOLD'].sum()\n",
    "\n",
    "#We transpose the DataFrame, such that the dynamics of the projection each are a column\n",
    "proj_data=proj_data.unstack(level=0)\n",
    "\n",
    "#We remove the index\n",
    "proj_data.reset_index(inplace=True)\n",
    "\n",
    "#We remove the column containing the yearly abosolute growth in population, as we\n",
    "# want to calculate that ourselves.\n",
    "proj_data.drop(labels='Population increase', axis=1,inplace=True)\n",
    "proj_data.head()"
   ]
  },
  {
   "cell_type": "markdown",
   "metadata": {},
   "source": [
    "### Calculating birth surplus and the immigration surplus"
   ]
  },
  {
   "cell_type": "code",
   "execution_count": 8,
   "metadata": {},
   "outputs": [
    {
     "data": {
      "text/html": [
       "<div>\n",
       "<style scoped>\n",
       "    .dataframe tbody tr th:only-of-type {\n",
       "        vertical-align: middle;\n",
       "    }\n",
       "\n",
       "    .dataframe tbody tr th {\n",
       "        vertical-align: top;\n",
       "    }\n",
       "\n",
       "    .dataframe thead th {\n",
       "        text-align: right;\n",
       "    }\n",
       "</style>\n",
       "<table border=\"1\" class=\"dataframe\">\n",
       "  <thead>\n",
       "    <tr style=\"text-align: right;\">\n",
       "      <th>BEVÆGELSE</th>\n",
       "      <th>TID</th>\n",
       "      <th>Deaths</th>\n",
       "      <th>Emigrated</th>\n",
       "      <th>Immigrated</th>\n",
       "      <th>Livebirths</th>\n",
       "      <th>Population primo</th>\n",
       "      <th>Birth surplus</th>\n",
       "      <th>Immigration surplus</th>\n",
       "      <th>Population growth</th>\n",
       "    </tr>\n",
       "  </thead>\n",
       "  <tbody>\n",
       "    <tr>\n",
       "      <th>0</th>\n",
       "      <td>2018</td>\n",
       "      <td>53443</td>\n",
       "      <td>50522</td>\n",
       "      <td>72883</td>\n",
       "      <td>64179</td>\n",
       "      <td>5781190</td>\n",
       "      <td>10736</td>\n",
       "      <td>22361</td>\n",
       "      <td>33097</td>\n",
       "    </tr>\n",
       "    <tr>\n",
       "      <th>1</th>\n",
       "      <td>2019</td>\n",
       "      <td>53741</td>\n",
       "      <td>51555</td>\n",
       "      <td>70526</td>\n",
       "      <td>65293</td>\n",
       "      <td>5814283</td>\n",
       "      <td>11552</td>\n",
       "      <td>18971</td>\n",
       "      <td>30523</td>\n",
       "    </tr>\n",
       "    <tr>\n",
       "      <th>2</th>\n",
       "      <td>2020</td>\n",
       "      <td>54104</td>\n",
       "      <td>52194</td>\n",
       "      <td>68509</td>\n",
       "      <td>66378</td>\n",
       "      <td>5844805</td>\n",
       "      <td>12274</td>\n",
       "      <td>16315</td>\n",
       "      <td>28589</td>\n",
       "    </tr>\n",
       "    <tr>\n",
       "      <th>3</th>\n",
       "      <td>2021</td>\n",
       "      <td>54534</td>\n",
       "      <td>52535</td>\n",
       "      <td>67005</td>\n",
       "      <td>67497</td>\n",
       "      <td>5873392</td>\n",
       "      <td>12963</td>\n",
       "      <td>14470</td>\n",
       "      <td>27433</td>\n",
       "    </tr>\n",
       "    <tr>\n",
       "      <th>4</th>\n",
       "      <td>2022</td>\n",
       "      <td>55037</td>\n",
       "      <td>52717</td>\n",
       "      <td>65965</td>\n",
       "      <td>68718</td>\n",
       "      <td>5900824</td>\n",
       "      <td>13681</td>\n",
       "      <td>13248</td>\n",
       "      <td>26929</td>\n",
       "    </tr>\n",
       "  </tbody>\n",
       "</table>\n",
       "</div>"
      ],
      "text/plain": [
       "BEVÆGELSE   TID  Deaths  Emigrated  Immigrated  Livebirths  Population primo  \\\n",
       "0          2018   53443      50522       72883       64179           5781190   \n",
       "1          2019   53741      51555       70526       65293           5814283   \n",
       "2          2020   54104      52194       68509       66378           5844805   \n",
       "3          2021   54534      52535       67005       67497           5873392   \n",
       "4          2022   55037      52717       65965       68718           5900824   \n",
       "\n",
       "BEVÆGELSE  Birth surplus  Immigration surplus  Population growth  \n",
       "0                  10736                22361              33097  \n",
       "1                  11552                18971              30523  \n",
       "2                  12274                16315              28589  \n",
       "3                  12963                14470              27433  \n",
       "4                  13681                13248              26929  "
      ]
     },
     "execution_count": 8,
     "metadata": {},
     "output_type": "execute_result"
    }
   ],
   "source": [
    "#Below we calculate the birth surplus and immigration surplus, and assume that the sum of those are\n",
    "# is the population increase\n",
    "proj_data['Birth surplus']=proj_data['Livebirths']-proj_data['Deaths']\n",
    "proj_data['Immigration surplus']=proj_data['Immigrated']-proj_data['Emigrated']\n",
    "proj_data['Population growth']=proj_data['Birth surplus']+proj_data['Immigration surplus']\n",
    "proj_data.head()"
   ]
  },
  {
   "cell_type": "markdown",
   "metadata": {},
   "source": [
    "### Here we compute an x-axis"
   ]
  },
  {
   "cell_type": "code",
   "execution_count": 9,
   "metadata": {},
   "outputs": [],
   "source": [
    "#Below we compute x-axis ticks labels\n",
    "aar=[2020]\n",
    "next_aar=aar[-1]\n",
    "while next_aar<2060:\n",
    "    next_aar=aar[-1]+5\n",
    "    aar.append(next_aar)"
   ]
  },
  {
   "cell_type": "markdown",
   "metadata": {},
   "source": [
    "### Here we plot the dynamics within the population projection"
   ]
  },
  {
   "cell_type": "code",
   "execution_count": 10,
   "metadata": {},
   "outputs": [
    {
     "data": {
      "image/png": "[encoded data removed]",
      "text/plain": [
       "<Figure size 432x288 with 1 Axes>"
      ]
     },
     "metadata": {
      "needs_background": "light"
     },
     "output_type": "display_data"
    }
   ],
   "source": [
    "#Plotting birth- and immigration surplus as columns\n",
    "proj_data[['Birth surplus','Immigration surplus']].plot(kind='bar', stacked=True)\n",
    "\n",
    "#Plotting the inflow and outflow in the population as line plots\n",
    "proj_data['Livebirths'].plot()\n",
    "proj_data['Deaths'].plot()\n",
    "proj_data['Immigrated'].plot(linestyle='dashed')\n",
    "proj_data['Emigrated'].plot(linestyle='dashed')\n",
    "\n",
    "#Plotting the population growth as a line plot.\n",
    "proj_data['Population growth'].plot(color='k')\n",
    "\n",
    "#We use the labels for the x-axis computed before\n",
    "plt.xticks(np.arange(2,len(proj_data),5),aar)\n",
    "\n",
    "#Putting the legend below the plot and finally showing the plot\n",
    "plt.legend(bbox_to_anchor=(0.5, -0.3), loc=8, ncol=4)\n",
    "plt.show()"
   ]
  },
  {
   "cell_type": "markdown",
   "metadata": {},
   "source": [
    "We see that population growth is slowing down towards 2060. This is especially caused by assuming a lower level of imigration and a lower birth surplus. This stems from the population getting older in average due to a previous baby boom."
   ]
  },
  {
   "cell_type": "markdown",
   "metadata": {},
   "source": [
    "# Section 3: Projection of the population size and annual growth"
   ]
  },
  {
   "cell_type": "markdown",
   "metadata": {},
   "source": [
    "### Below we calculate the annual growth in the projected population along with the population size and average annual growth. For the latter, we use the following formula, where $K_T$ is the end value and $K_1$ is the first value and $T$ is the number of periods:"
   ]
  },
  {
   "cell_type": "markdown",
   "metadata": {},
   "source": [
    "$ \\left( { K_{T} \\over K_{1} } \\right) ^ {\\left(1 \\over T \\right) } -1$"
   ]
  },
  {
   "cell_type": "code",
   "execution_count": 11,
   "metadata": {},
   "outputs": [
    {
     "data": {
      "text/html": [
       "<div>\n",
       "<style scoped>\n",
       "    .dataframe tbody tr th:only-of-type {\n",
       "        vertical-align: middle;\n",
       "    }\n",
       "\n",
       "    .dataframe tbody tr th {\n",
       "        vertical-align: top;\n",
       "    }\n",
       "\n",
       "    .dataframe thead th {\n",
       "        text-align: right;\n",
       "    }\n",
       "</style>\n",
       "<table border=\"1\" class=\"dataframe\">\n",
       "  <thead>\n",
       "    <tr style=\"text-align: right;\">\n",
       "      <th>BEVÆGELSE</th>\n",
       "      <th>TID</th>\n",
       "      <th>Deaths</th>\n",
       "      <th>Emigrated</th>\n",
       "      <th>Immigrated</th>\n",
       "      <th>Livebirths</th>\n",
       "      <th>Population primo</th>\n",
       "      <th>Birth surplus</th>\n",
       "      <th>Immigration surplus</th>\n",
       "      <th>Population growth</th>\n",
       "      <th>Relative growth</th>\n",
       "      <th>Average annual growth (2018-2060)</th>\n",
       "    </tr>\n",
       "  </thead>\n",
       "  <tbody>\n",
       "    <tr>\n",
       "      <th>0</th>\n",
       "      <td>2018</td>\n",
       "      <td>53443</td>\n",
       "      <td>50522</td>\n",
       "      <td>72883</td>\n",
       "      <td>64179</td>\n",
       "      <td>5781190</td>\n",
       "      <td>10736</td>\n",
       "      <td>22361</td>\n",
       "      <td>33097</td>\n",
       "      <td>NaN</td>\n",
       "      <td>0.315224</td>\n",
       "    </tr>\n",
       "    <tr>\n",
       "      <th>1</th>\n",
       "      <td>2019</td>\n",
       "      <td>53741</td>\n",
       "      <td>51555</td>\n",
       "      <td>70526</td>\n",
       "      <td>65293</td>\n",
       "      <td>5814283</td>\n",
       "      <td>11552</td>\n",
       "      <td>18971</td>\n",
       "      <td>30523</td>\n",
       "      <td>0.572425</td>\n",
       "      <td>0.315224</td>\n",
       "    </tr>\n",
       "    <tr>\n",
       "      <th>2</th>\n",
       "      <td>2020</td>\n",
       "      <td>54104</td>\n",
       "      <td>52194</td>\n",
       "      <td>68509</td>\n",
       "      <td>66378</td>\n",
       "      <td>5844805</td>\n",
       "      <td>12274</td>\n",
       "      <td>16315</td>\n",
       "      <td>28589</td>\n",
       "      <td>0.524949</td>\n",
       "      <td>0.315224</td>\n",
       "    </tr>\n",
       "    <tr>\n",
       "      <th>3</th>\n",
       "      <td>2021</td>\n",
       "      <td>54534</td>\n",
       "      <td>52535</td>\n",
       "      <td>67005</td>\n",
       "      <td>67497</td>\n",
       "      <td>5873392</td>\n",
       "      <td>12963</td>\n",
       "      <td>14470</td>\n",
       "      <td>27433</td>\n",
       "      <td>0.489101</td>\n",
       "      <td>0.315224</td>\n",
       "    </tr>\n",
       "    <tr>\n",
       "      <th>4</th>\n",
       "      <td>2022</td>\n",
       "      <td>55037</td>\n",
       "      <td>52717</td>\n",
       "      <td>65965</td>\n",
       "      <td>68718</td>\n",
       "      <td>5900824</td>\n",
       "      <td>13681</td>\n",
       "      <td>13248</td>\n",
       "      <td>26929</td>\n",
       "      <td>0.467055</td>\n",
       "      <td>0.315224</td>\n",
       "    </tr>\n",
       "  </tbody>\n",
       "</table>\n",
       "</div>"
      ],
      "text/plain": [
       "BEVÆGELSE   TID  Deaths  Emigrated  Immigrated  Livebirths  Population primo  \\\n",
       "0          2018   53443      50522       72883       64179           5781190   \n",
       "1          2019   53741      51555       70526       65293           5814283   \n",
       "2          2020   54104      52194       68509       66378           5844805   \n",
       "3          2021   54534      52535       67005       67497           5873392   \n",
       "4          2022   55037      52717       65965       68718           5900824   \n",
       "\n",
       "BEVÆGELSE  Birth surplus  Immigration surplus  Population growth  \\\n",
       "0                  10736                22361              33097   \n",
       "1                  11552                18971              30523   \n",
       "2                  12274                16315              28589   \n",
       "3                  12963                14470              27433   \n",
       "4                  13681                13248              26929   \n",
       "\n",
       "BEVÆGELSE  Relative growth  Average annual growth (2018-2060)  \n",
       "0                      NaN                           0.315224  \n",
       "1                 0.572425                           0.315224  \n",
       "2                 0.524949                           0.315224  \n",
       "3                 0.489101                           0.315224  \n",
       "4                 0.467055                           0.315224  "
      ]
     },
     "execution_count": 11,
     "metadata": {},
     "output_type": "execute_result"
    }
   ],
   "source": [
    "#Calculating the percentage growth in population annually\n",
    "proj_data['Relative growth']=proj_data['Population primo'].pct_change()*100\n",
    "\n",
    "#Calculating the average annual growth\n",
    "proj_data['Average annual growth (2018-2060)']=((proj_data['Population primo'].iloc[-1]/proj_data['Population primo'].iloc[0])**(1/(2060-2018))-1)*100\n",
    "proj_data.head()"
   ]
  },
  {
   "cell_type": "markdown",
   "metadata": {},
   "source": [
    "### We now plot the calculated predictions"
   ]
  },
  {
   "cell_type": "code",
   "execution_count": 8,
   "metadata": {},
   "outputs": [
    {
     "data": {
      "image/png": "[encoded data removed]",
      "text/plain": [
       "<Figure size 432x288 with 2 Axes>"
      ]
     },
     "metadata": {
      "needs_background": "light"
     },
     "output_type": "display_data"
    }
   ],
   "source": [
    "#Plotting annual relative growth and its average as bar plot on the secondary y-axis\n",
    "ax1=proj_data[['Relative growth']].plot(kind='bar', secondary_y=True,color='red',legend=False, label='Relative growth (right)')\n",
    "ax2=proj_data['Average annual growth (2018-2060)'].plot(secondary_y=True,color='black',linestyle='dashed', label='Average annual growth, 2018-2060 (right)')\n",
    "\n",
    "#Plotting the population size on the primary y-axis as a line plot\n",
    "ax3=proj_data['Population primo'].plot(label = 'Projected population', legend=True)\n",
    "\n",
    "#Using the computes x-axis tick labels\n",
    "plt.xticks(np.arange(2,len(proj_data),5),aar)\n",
    "\n",
    "#Choosing the scale of the y-axis\n",
    "ax1.set_ylim(0, 1)\n",
    "ax3.set_ylim(5000000, 7000000)\n",
    "\n",
    "#Formatting the the y-axis\n",
    "ax3.get_yaxis().set_major_formatter(matplotlib.ticker.FuncFormatter(lambda x, p: format(int(x), ',')))\n",
    "ax1.get_yaxis().set_major_formatter(FormatStrFormatter('%.2f'))\n",
    "ax1.set_ylabel(\"%\",rotation=0,)\n",
    "\n",
    "#Showing two legends for each y-axis\n",
    "ax3.legend(bbox_to_anchor=(-0.2,1))\n",
    "ax1.legend(bbox_to_anchor=(1.9,1))\n",
    "\n",
    "#Showing the plot\n",
    "plt.show()"
   ]
  },
  {
   "cell_type": "markdown",
   "metadata": {},
   "source": [
    "The above illustrates the same point as before, population growth is slowing down."
   ]
  },
  {
   "cell_type": "markdown",
   "metadata": {},
   "source": [
    "# Section 4"
   ]
  },
  {
   "cell_type": "markdown",
   "metadata": {},
   "source": [
    "## Below we will compute an age pyramid, which loops across time in the projection"
   ]
  },
  {
   "cell_type": "markdown",
   "metadata": {},
   "source": [
    "### We collect and clean the data"
   ]
  },
  {
   "cell_type": "code",
   "execution_count": 12,
   "metadata": {},
   "outputs": [
    {
     "data": {
      "text/html": [
       "<div>\n",
       "<style scoped>\n",
       "    .dataframe tbody tr th:only-of-type {\n",
       "        vertical-align: middle;\n",
       "    }\n",
       "\n",
       "    .dataframe tbody tr th {\n",
       "        vertical-align: top;\n",
       "    }\n",
       "\n",
       "    .dataframe thead th {\n",
       "        text-align: right;\n",
       "    }\n",
       "</style>\n",
       "<table border=\"1\" class=\"dataframe\">\n",
       "  <thead>\n",
       "    <tr style=\"text-align: right;\">\n",
       "      <th>KØN</th>\n",
       "      <th>ALDER</th>\n",
       "      <th>TID</th>\n",
       "      <th>Men</th>\n",
       "      <th>Women</th>\n",
       "      <th>Order</th>\n",
       "    </tr>\n",
       "  </thead>\n",
       "  <tbody>\n",
       "    <tr>\n",
       "      <th>0</th>\n",
       "      <td>0 years</td>\n",
       "      <td>2018</td>\n",
       "      <td>31624.0</td>\n",
       "      <td>30107.0</td>\n",
       "      <td>0</td>\n",
       "    </tr>\n",
       "    <tr>\n",
       "      <th>1</th>\n",
       "      <td>0 years</td>\n",
       "      <td>2019</td>\n",
       "      <td>33094.0</td>\n",
       "      <td>31435.0</td>\n",
       "      <td>0</td>\n",
       "    </tr>\n",
       "    <tr>\n",
       "      <th>2</th>\n",
       "      <td>0 years</td>\n",
       "      <td>2020</td>\n",
       "      <td>33667.0</td>\n",
       "      <td>31978.0</td>\n",
       "      <td>0</td>\n",
       "    </tr>\n",
       "    <tr>\n",
       "      <th>3</th>\n",
       "      <td>0 years</td>\n",
       "      <td>2021</td>\n",
       "      <td>34222.0</td>\n",
       "      <td>32507.0</td>\n",
       "      <td>0</td>\n",
       "    </tr>\n",
       "    <tr>\n",
       "      <th>4</th>\n",
       "      <td>0 years</td>\n",
       "      <td>2022</td>\n",
       "      <td>34795.0</td>\n",
       "      <td>33053.0</td>\n",
       "      <td>0</td>\n",
       "    </tr>\n",
       "  </tbody>\n",
       "</table>\n",
       "</div>"
      ],
      "text/plain": [
       "KØN    ALDER   TID      Men    Women  Order\n",
       "0    0 years  2018  31624.0  30107.0      0\n",
       "1    0 years  2019  33094.0  31435.0      0\n",
       "2    0 years  2020  33667.0  31978.0      0\n",
       "3    0 years  2021  34222.0  32507.0      0\n",
       "4    0 years  2022  34795.0  33053.0      0"
      ]
     },
     "execution_count": 12,
     "metadata": {},
     "output_type": "execute_result"
    }
   ],
   "source": [
    "#Collecting the data\n",
    "agedist = Dst.get_data(table_id = 'FRDK118', variables={'HERKOMST':['*'],'KØN':['*'], 'ALDER':['*'], 'TID':['*']})\n",
    "\n",
    "#As we are not interested in dynamics dependent on origin, we sum on that column.\n",
    "age_dist=agedist.groupby(['KØN','ALDER','TID'])['INDHOLD'].sum()\n",
    "\n",
    "#We transpose the DataFrame, such that the dynamics of the projection each are a column\n",
    "age_dist=age_dist.unstack(level=0)\n",
    "\n",
    "#We remove the index\n",
    "age_dist.reset_index(inplace=True)\n",
    "\n",
    "#We generate a new column, which is equal to the age column. We then remove the 'years' part of the column values\n",
    "# such that only the age as a number remains. We turn that into an integer column, so we can sort the data\n",
    "# after that. So the order will be (1, 2, 3, ..) and not (1, 10, 100, 2).\n",
    "age_dist['Order'] = age_dist['ALDER'].map(lambda x: x.rstrip(' years'))\n",
    "age_dist['Order']=age_dist['Order'].astype(int)\n",
    "age_dist.head()"
   ]
  },
  {
   "cell_type": "markdown",
   "metadata": {},
   "source": [
    "### Computing an x-axis"
   ]
  },
  {
   "cell_type": "code",
   "execution_count": 10,
   "metadata": {},
   "outputs": [],
   "source": [
    "#We compute labels for the x-axis ticks\n",
    "alder_list=[0]\n",
    "next_alder=alder_list[-1]\n",
    "while next_alder<111:\n",
    "    next_alder=alder_list[-1]+10\n",
    "    alder_list.append(next_alder)"
   ]
  },
  {
   "cell_type": "markdown",
   "metadata": {},
   "source": [
    "### Below we define the functions needed for the age pyramid"
   ]
  },
  {
   "cell_type": "code",
   "execution_count": 11,
   "metadata": {},
   "outputs": [],
   "source": [
    "# We define a function, that plots the age pyramid for each year, taking the year as an argument\n",
    "def agedist_plot(age_aar):\n",
    "    #Selecting the relevant values from the data based on the year.\n",
    "    agedist_fig=age_dist.loc[age_dist['TID']==age_aar].sort_values(by=['Order'])\n",
    "    \n",
    "    #Preparing for a figure with two plots\n",
    "    fig, axes = plt.subplots(ncols=2, sharey=False)\n",
    "    \n",
    "    #First plotting the age distribution for men as a horizontal bar plot.\n",
    "    axes[0].barh(agedist_fig['ALDER'], agedist_fig['Men'], align='center', color='blue')\n",
    "    axes[0].set(title='Men')\n",
    "    \n",
    "    #Then the same for women.\n",
    "    axes[1].barh(agedist_fig['ALDER'], agedist_fig['Women'], align='center', color='Red')\n",
    "    axes[1].set(title='Women')\n",
    "    \n",
    "    #The mens horizontal bar plot is mirrored vertically, by inverting its x-axis\n",
    "    axes[0].invert_xaxis()\n",
    "\n",
    "    #Setting the x-axis scale\n",
    "    axes[0].set_xlim(50000)\n",
    "    axes[1].set_xlim(0,50000)\n",
    "    \n",
    "    #Formatting and labeling the x-axis ticks\n",
    "    axes[1].yaxis.tick_right()\n",
    "    axes[0].set(yticks=np.arange(0,110,10), yticklabels=agedist_fig['ALDER'][0:-2:10])\n",
    "    axes[1].set(yticks=np.arange(0,110,10), yticklabels=agedist_fig['ALDER'][0:-2:10])\n",
    "    \n",
    "    #Removing the distance between the two plots in the subplot-figure,\n",
    "    # so it looks like one large figure\n",
    "    fig.subplots_adjust(wspace=0)\n",
    "    \n",
    "    # Displaying the year at the top of the plot\n",
    "    fig.suptitle(f'Year: {age_aar}')\n",
    "    \n",
    "    #Showing the plot\n",
    "    plt.show()\n",
    "    return \n",
    "\n",
    "#The below function enables the a slider, so the user chooses the year.\n",
    "# However, this function is not used in this notebook\n",
    "def interagedist():\n",
    "    interact(agedist_plot, age_aar = widgets.IntSlider(value=2018, min=2018, max=2058, description='Year:', step=1, disabled=False, continuous=True))\n",
    "\n",
    "#We define a function, that loops through the years and using them as arguments in the figure function\n",
    "# It also clears the output at the end of each loop, so it will look like an animation\n",
    "def loopagedist():\n",
    "    for age_aar in range(2020,2061,5):\n",
    "            display.display(agedist_plot(age_aar=age_aar))\n",
    "            display.clear_output(wait=True);\n",
    "            #time.sleep(0.0001)"
   ]
  },
  {
   "cell_type": "markdown",
   "metadata": {},
   "source": [
    "### Plotting the pyramid in a loop."
   ]
  },
  {
   "cell_type": "markdown",
   "metadata": {},
   "source": [
    "#### Run the below cell again, to restart the loop."
   ]
  },
  {
   "cell_type": "code",
   "execution_count": 15,
   "metadata": {},
   "outputs": [
    {
     "data": {
      "image/png": "[encoded data removed]",
      "text/plain": [
       "<Figure size 432x288 with 2 Axes>"
      ]
     },
     "metadata": {
      "needs_background": "light"
     },
     "output_type": "display_data"
    },
    {
     "data": {
      "text/plain": [
       "None"
      ]
     },
     "metadata": {},
     "output_type": "display_data"
    }
   ],
   "source": [
    "#Running the looping function\n",
    "loopagedist()"
   ]
  },
  {
   "cell_type": "markdown",
   "metadata": {},
   "source": [
    "From the above animation, we see the baby boom from the 2nd World War having a rippling effect on the age distribution towards 2060."
   ]
  },
  {
   "cell_type": "markdown",
   "metadata": {},
   "source": [
    "# Section 5"
   ]
  },
  {
   "cell_type": "markdown",
   "metadata": {},
   "source": [
    "## Here we compare the Danish, Swedish and Norwegian population growth towards 2060. Using index"
   ]
  },
  {
   "cell_type": "markdown",
   "metadata": {},
   "source": [
    "### Collecting and cleaning data. The Danish data is from the previously used API and the Swedish and Norwegian data is imported for this notebook"
   ]
  },
  {
   "cell_type": "code",
   "execution_count": 13,
   "metadata": {},
   "outputs": [
    {
     "data": {
      "text/html": [
       "<div>\n",
       "<style scoped>\n",
       "    .dataframe tbody tr th:only-of-type {\n",
       "        vertical-align: middle;\n",
       "    }\n",
       "\n",
       "    .dataframe tbody tr th {\n",
       "        vertical-align: top;\n",
       "    }\n",
       "\n",
       "    .dataframe thead th {\n",
       "        text-align: right;\n",
       "    }\n",
       "</style>\n",
       "<table border=\"1\" class=\"dataframe\">\n",
       "  <thead>\n",
       "    <tr style=\"text-align: right;\">\n",
       "      <th></th>\n",
       "      <th>Denmark</th>\n",
       "      <th>Sweden</th>\n",
       "      <th>Norway</th>\n",
       "    </tr>\n",
       "    <tr>\n",
       "      <th>Year</th>\n",
       "      <th></th>\n",
       "      <th></th>\n",
       "      <th></th>\n",
       "    </tr>\n",
       "  </thead>\n",
       "  <tbody>\n",
       "    <tr>\n",
       "      <th>2018</th>\n",
       "      <td>100.000000</td>\n",
       "      <td>100.000000</td>\n",
       "      <td>100.000000</td>\n",
       "    </tr>\n",
       "    <tr>\n",
       "      <th>2019</th>\n",
       "      <td>100.572425</td>\n",
       "      <td>100.949189</td>\n",
       "      <td>100.683471</td>\n",
       "    </tr>\n",
       "    <tr>\n",
       "      <th>2020</th>\n",
       "      <td>101.100379</td>\n",
       "      <td>101.918789</td>\n",
       "      <td>101.360219</td>\n",
       "    </tr>\n",
       "    <tr>\n",
       "      <th>2021</th>\n",
       "      <td>101.594862</td>\n",
       "      <td>102.884272</td>\n",
       "      <td>102.036041</td>\n",
       "    </tr>\n",
       "    <tr>\n",
       "      <th>2022</th>\n",
       "      <td>102.069366</td>\n",
       "      <td>103.784416</td>\n",
       "      <td>102.720588</td>\n",
       "    </tr>\n",
       "  </tbody>\n",
       "</table>\n",
       "</div>"
      ],
      "text/plain": [
       "         Denmark      Sweden      Norway\n",
       "Year                                    \n",
       "2018  100.000000  100.000000  100.000000\n",
       "2019  100.572425  100.949189  100.683471\n",
       "2020  101.100379  101.918789  101.360219\n",
       "2021  101.594862  102.884272  102.036041\n",
       "2022  102.069366  103.784416  102.720588"
      ]
     },
     "execution_count": 13,
     "metadata": {},
     "output_type": "execute_result"
    }
   ],
   "source": [
    "#Creating an empty DateFrame an copying the population size already collected from Denmark Statistics along\n",
    "# with the year column\n",
    "pop_DK=pd.DataFrame()\n",
    "pop_DK=proj_data[['Population primo','TID']].copy()\n",
    "\n",
    "#Renaming the population size column as 'Denmark'\n",
    "DK_col={}\n",
    "DK_col['Population primo'] = 'Danmark'\n",
    "pop_DK.rename(columns=DK_col, inplace=True)\n",
    "\n",
    "#Removing the index and setting the year column as index\n",
    "pop_DK.reset_index(drop=True, inplace=True)\n",
    "pop_DK.set_index('TID', inplace=True)\n",
    "\n",
    "#Creating an empty DataFrame and importing the Excel-sheet already downloaded, containing the Swedish\n",
    "# population projection\n",
    "pop_SE=pd.DataFrame()\n",
    "pop_SE=pd.read_excel('dataproject/sverige_pop.xlsx', skiprows=2, col=2,nrows=44)\n",
    "\n",
    "#Renaming the population size column as 'Sweden'\n",
    "SE_col={}\n",
    "SE_col['Unnamed: 0'] = 'TID'\n",
    "SE_col['total'] = 'Sverige'\n",
    "pop_SE.rename(columns=SE_col, inplace=True)\n",
    "\n",
    "# Setting the year column as index\n",
    "pop_SE.set_index('TID', inplace=True)\n",
    "\n",
    "#Creating an empty DataFrame and importing the Excel-sheet already downloaded, containing the Norwegian\n",
    "# population projection\n",
    "pop_NO=pd.DataFrame()\n",
    "pop_NO=pd.read_excel('dataproject/norge_pop.xlsx', skiprows=3, col=2)\n",
    "\n",
    "#Renaming the population size column as 'Norway'\n",
    "NO_col={}\n",
    "NO_col['Unnamed: 1'] = 'TID'\n",
    "NO_col['Population'] = 'Norge'\n",
    "pop_NO.rename(columns=NO_col, inplace=True)\n",
    "\n",
    "# Setting the year column as index\n",
    "pop_NO=pop_NO[['TID','Norge']]\n",
    "pop_NO.set_index('TID', inplace=True)\n",
    "\n",
    "\n",
    "# Creating an empy DataFrame\n",
    "popproj_comp=pd.DataFrame()\n",
    "\n",
    "# Merging the population projection for each country\n",
    "popproj_comp=pop_DK.join([pop_SE,pop_NO])\n",
    "\n",
    "#Creating an empty DataFrame\n",
    "popind_comp=pd.DataFrame()\n",
    "\n",
    "#Creating a new column for each country and setting them equal to those of the \n",
    "# previously merged DataFrame divided by their respective 2018-size multiplied by 100.\n",
    "# That way we calculate an index based on the 2018 size\n",
    "popind_comp['Denmark']=popproj_comp['Danmark']/popproj_comp['Danmark'].iloc[0]*100\n",
    "popind_comp['Sweden']=popproj_comp['Sverige']/popproj_comp['Sverige'].iloc[0]*100\n",
    "popind_comp['Norway']=popproj_comp['Norge']/popproj_comp['Norge'].iloc[0]*100\n",
    "\n",
    "#Renaming the index \n",
    "popind_comp.index.names = ['Year']\n",
    "\n",
    "popind_comp.head()"
   ]
  },
  {
   "cell_type": "markdown",
   "metadata": {},
   "source": [
    "### Plotting the index plot."
   ]
  },
  {
   "cell_type": "code",
   "execution_count": 14,
   "metadata": {},
   "outputs": [
    {
     "data": {
      "text/plain": [
       "Text(0, 0.5, 'Index 100: 2018')"
      ]
     },
     "execution_count": 14,
     "metadata": {},
     "output_type": "execute_result"
    },
    {
     "data": {
      "image/png": "[encoded data removed]",
      "text/plain": [
       "<Figure size 432x288 with 1 Axes>"
      ]
     },
     "metadata": {
      "needs_background": "light"
     },
     "output_type": "display_data"
    }
   ],
   "source": [
    "#Plotting the index plot and setting the label for the y-axis\n",
    "figind=popind_comp.plot()\n",
    "figind.set_ylabel(\"Index 100: 2018\")"
   ]
  },
  {
   "cell_type": "markdown",
   "metadata": {},
   "source": [
    "Relative to 2018, the population in Sweden and Norway is projected to grow much faster than in Denmark."
   ]
  }
 ],
 "metadata": {
  "kernelspec": {
   "display_name": "Python 3",
   "language": "python",
   "name": "python3"
  },
  "language_info": {
   "codemirror_mode": {
    "name": "ipython",
    "version": 3
   },
   "file_extension": ".py",
   "mimetype": "text/x-python",
   "name": "python",
   "nbconvert_exporter": "python",
   "pygments_lexer": "ipython3",
   "version": "3.7.1"
  }
 },
 "nbformat": 4,
 "nbformat_minor": 2
}
