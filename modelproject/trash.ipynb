{
 "cells": [
  {
   "cell_type": "markdown",
   "metadata": {},
   "source": [
    "**Public finance - modelling intensive margin labor supply**\n"
   ]
  },
  {
   "cell_type": "code",
   "execution_count": 1,
   "metadata": {},
   "outputs": [],
   "source": [
    "import numpy as np\n",
    "import matplotlib.pyplot as plt\n",
    "import ipywidgets as widgets\n",
    "import time\n",
    "from scipy import linalg\n",
    "from scipy import optimize\n",
    "import sympy as sm\n",
    "from matplotlib import cm\n",
    "from mpl_toolkits.mplot3d import Axes3D\n",
    "\n",
    "import modelproject.custom_funcs as custom\n",
    "\n",
    "sm.init_printing(use_unicode=True) # for pretty printing"
   ]
  },
  {
   "cell_type": "markdown",
   "metadata": {},
   "source": [
    "# Describe the model"
   ]
  },
  {
   "cell_type": "markdown",
   "metadata": {},
   "source": [
    "Describe the problem of interest"
   ]
  },
  {
   "cell_type": "markdown",
   "metadata": {},
   "source": [
    "\\\\[ \\max u(x,1-h) \\text{ s.t. } x=(1-t_{w})wh-t_{0}+a \\\\]"
   ]
  },
  {
   "cell_type": "markdown",
   "metadata": {},
   "source": [
    " - $u(\\cdot)$ is the utility funciton\n",
    " - $x$ is consumption\n",
    " - $1-h$ is leisure\n",
    " - $w$ is the wage\n",
    " - $t_{w}$ is a tax on labor income\n",
    " - $t_{0}$ is lump sum tax\n",
    " - $a$ is non-labor income"
   ]
  },
  {
   "cell_type": "markdown",
   "metadata": {},
   "source": [
    "Specify the utility function"
   ]
  },
  {
   "cell_type": "markdown",
   "metadata": {},
   "source": [
    "\\\\[ u(x,1-h)=x+\\frac{1}{1+\\frac{1}{\\varepsilon}}(1-h)^{1+\\frac{1}{\\varepsilon}} \\\\]"
   ]
  },
  {
   "cell_type": "markdown",
   "metadata": {},
   "source": [
    "where $\\varepsilon$ is the elasticity of substitution"
   ]
  },
  {
   "cell_type": "markdown",
   "metadata": {},
   "source": [
    "# Define the model in Python"
   ]
  },
  {
   "cell_type": "markdown",
   "metadata": {},
   "source": [
    "Specify the symbols"
   ]
  },
  {
   "cell_type": "code",
   "execution_count": 2,
   "metadata": {},
   "outputs": [],
   "source": [
    "x = sm.symbols('x') # x1 is a Python variable representing the symbol x_1\n",
    "h = sm.symbols('h')\n",
    "epsilon = sm.symbols('epsilon')\n",
    "tw = sm.symbols('t_w')\n",
    "w = sm.symbols('w')\n",
    "t0 = sm.symbols('t_0')\n",
    "a = sm.symbols('a')"
   ]
  },
  {
   "cell_type": "markdown",
   "metadata": {},
   "source": [
    "Defining the utility function:"
   ]
  },
  {
   "cell_type": "code",
   "execution_count": 3,
   "metadata": {},
   "outputs": [
    {
     "data": {
      "image/png": "[encoded data removed]",
      "text/latex": [
       "$$x + \\frac{\\left(- h + 1\\right)^{1 + \\frac{1}{\\epsilon}}}{1 + \\frac{1}{\\epsilon}}$$"
      ],
      "text/plain": [
       "                1\n",
       "            1 + ─\n",
       "                ε\n",
       "    (-h + 1)     \n",
       "x + ─────────────\n",
       "            1    \n",
       "        1 + ─    \n",
       "            ε    "
      ]
     },
     "execution_count": 3,
     "metadata": {},
     "output_type": "execute_result"
    }
   ],
   "source": [
    "utility=x+(1/(1+1/epsilon))*(1-h)**(1+1/epsilon)\n",
    "utility"
   ]
  },
  {
   "cell_type": "markdown",
   "metadata": {},
   "source": [
    "Defining the budget constraint"
   ]
  },
  {
   "cell_type": "code",
   "execution_count": 4,
   "metadata": {},
   "outputs": [
    {
     "data": {
      "image/png": "[encoded data removed]",
      "text/latex": [
       "$$x = a + h w \\left(- t_{w} + 1\\right) - t_{0}$$"
      ],
      "text/plain": [
       "x = a + h⋅w⋅(-t_w + 1) - t₀"
      ]
     },
     "execution_count": 4,
     "metadata": {},
     "output_type": "execute_result"
    }
   ],
   "source": [
    "budget_con = sm.Eq(x,(1-tw)*w*h-t0+a)\n",
    "budget_con"
   ]
  },
  {
   "cell_type": "markdown",
   "metadata": {},
   "source": [
    "# Solve the model"
   ]
  },
  {
   "cell_type": "markdown",
   "metadata": {},
   "source": [
    "**Find optimimum - Algorithm**"
   ]
  },
  {
   "cell_type": "markdown",
   "metadata": {},
   "source": [
    "1. Insert the budget constraint in the utility function\n",
    "2. Take the derivative wrt. $h$\n",
    "3. Solve the first order conditions"
   ]
  },
  {
   "cell_type": "markdown",
   "metadata": {},
   "source": [
    "**Step 1**"
   ]
  },
  {
   "cell_type": "code",
   "execution_count": 5,
   "metadata": {},
   "outputs": [
    {
     "data": {
      "image/png": "[encoded data removed]",
      "text/latex": [
       "$$a - h t_{w} w + h w - t_{0} + \\frac{\\left(- h + 1\\right)^{1 + \\frac{1}{\\epsilon}}}{1 + \\frac{1}{\\epsilon}}$$"
      ],
      "text/plain": [
       "                                     1\n",
       "                                 1 + ─\n",
       "                                     ε\n",
       "                         (-h + 1)     \n",
       "a - h⋅t_w⋅w + h⋅w - t₀ + ─────────────\n",
       "                                 1    \n",
       "                             1 + ─    \n",
       "                                 ε    "
      ]
     },
     "execution_count": 5,
     "metadata": {},
     "output_type": "execute_result"
    }
   ],
   "source": [
    "x_from_con=sm.solve(budget_con,x)\n",
    "utility_sub=utility.subs(x,x_from_con[0])\n",
    "utility_sub"
   ]
  },
  {
   "cell_type": "markdown",
   "metadata": {},
   "source": [
    "**Step 2**"
   ]
  },
  {
   "cell_type": "code",
   "execution_count": 6,
   "metadata": {},
   "outputs": [],
   "source": [
    "#find first derivative wrt. h\n",
    "foc=sm.diff(utility_sub,h)\n",
    "#simplify the expression\n",
    "foc_sim=sm.simplify(foc)"
   ]
  },
  {
   "cell_type": "markdown",
   "metadata": {},
   "source": [
    "**Step 3**"
   ]
  },
  {
   "cell_type": "code",
   "execution_count": 7,
   "metadata": {},
   "outputs": [
    {
     "data": {
      "image/png": "[encoded data removed]",
      "text/latex": [
       "$$\\left [ - \\left(- w \\left(t_{w} - 1\\right)\\right)^{\\epsilon} + 1\\right ]$$"
      ],
      "text/plain": [
       "⎡                ε    ⎤\n",
       "⎣- (-w⋅(t_w - 1))  + 1⎦"
      ]
     },
     "execution_count": 7,
     "metadata": {},
     "output_type": "execute_result"
    }
   ],
   "source": [
    "sol = sm.solve(foc_sim,h)\n",
    "sol"
   ]
  },
  {
   "cell_type": "markdown",
   "metadata": {},
   "source": [
    "# Use solutions"
   ]
  },
  {
   "cell_type": "code",
   "execution_count": 8,
   "metadata": {},
   "outputs": [],
   "source": [
    "# Turn solution into Python function\n",
    "_sol_func=sm.lambdify((tw,w,epsilon),sol[0])\n",
    "def sol_func(tw=0.2,w=10,epsilon=-0.5,a=2,t0=1):\n",
    "    opt_h=_sol_func(tw,w,epsilon)\n",
    "    opt_x=(1-tw)*w*opt_h-t0+a\n",
    "    opt_u=opt_x+1/(1+1/epsilon)*(1-opt_h)**(1+1/epsilon)\n",
    "    return opt_h, opt_x, opt_u\n",
    "\n",
    "# find optimum for hours worked, concsumption level and the implied utility\n",
    "optimal_h,optimal_x,optimal_u=sol_func()\n",
    "\n",
    "# find optimum for hours worked, consumption level and the implied utility when the tax increases\n",
    "optimal_h_tax,optimal_x_tax,optimal_u_tax=sol_func(tw=0.5)\n",
    "\n",
    "\n"
   ]
  },
  {
   "cell_type": "code",
   "execution_count": 9,
   "metadata": {},
   "outputs": [],
   "source": [
    "#Find optimum for hours worked, consumption level under compensation\n",
    "\n",
    "# As the utility function is quasi-linear there are no income effect\n",
    "# This imply that the optimal level hours worked under compensation is \n",
    "# the same without compensation\n",
    "optimal_h_com=optimal_h_tax\n",
    "\n",
    "#the optimal level of comsumption under compensation can be found as:\n",
    "optimal_x_com=optimal_u-1/(1+1/(-0.5))*(1-optimal_h_com)**(1+1/(-0.5))\n",
    "\n"
   ]
  },
  {
   "cell_type": "code",
   "execution_count": 10,
   "metadata": {},
   "outputs": [
    {
     "name": "stdout",
     "output_type": "stream",
     "text": [
      "0.12928932188134526 0.27639320225002106\n"
     ]
    }
   ],
   "source": [
    "# tax income before tax increase\n",
    "tax_before=optimal_h*0.2\n",
    "\n",
    "# tax income before tax increase\n",
    "tax_after=optimal_h_tax*0.5\n",
    "\n",
    "print(tax_before,tax_after)"
   ]
  },
  {
   "cell_type": "markdown",
   "metadata": {},
   "source": [
    "# Plotting results"
   ]
  },
  {
   "cell_type": "code",
   "execution_count": 11,
   "metadata": {},
   "outputs": [],
   "source": [
    "#define function for the budget constraint\n",
    "def budget_cons(h,tw=0.2,w=10,a=2,t0=1):\n",
    "    return (1-tw)*w*h-t0+a\n",
    "\n",
    "#define function for the compensated budget constraint\n",
    "def budget_cons_comp(h,u_b,u_a,tw=0.5,w=10,a=2,t0=1):\n",
    "    return (1-tw)*w*h-t0+a+(u_b-u_a)\n",
    "\n",
    "#define function for the utility function\n",
    "def utility(h,u,epsilon=-0.5):\n",
    "    return u-(1/(1+1/epsilon))*(1-h)**(1+1/epsilon)\n",
    "\n",
    "#make different grids to evaluate the two functions with\n",
    "grid = np.linspace(0,1,500)\n",
    "grid_b = np.linspace(optimal_h-0.2,optimal_h+0.2,500)\n",
    "grid_b_tax = np.linspace(optimal_h_tax-0.2,optimal_h_tax+0.2,500)\n",
    "\n",
    "#before tax increase\n",
    "budget_line=budget_cons(grid)\n",
    "u_func_opt=utility(grid_b,optimal_u)\n",
    "\n",
    "#after tax increase\n",
    "budget_line_tax=budget_cons(grid,tw=0.5)\n",
    "budget_line_tax_com=budget_cons_comp(grid,optimal_u,optimal_u_tax)\n",
    "u_func_opt_tax=utility(grid_b_tax,optimal_u_tax)\n"
   ]
  },
  {
   "cell_type": "code",
   "execution_count": 12,
   "metadata": {},
   "outputs": [
    {
     "data": {
      "image/png": "[encoded data removed]",
      "text/plain": [
       "<Figure size 576x576 with 1 Axes>"
      ]
     },
     "metadata": {
      "needs_background": "light"
     },
     "output_type": "display_data"
    }
   ],
   "source": [
    "fig = plt.figure(figsize=(8,8))\n",
    "\n",
    "ax = fig.add_subplot(1,1,1)\n",
    "\n",
    "ax.plot(grid,budget_line,lw=2,linestyle='-',color='black',label='Budget constraint',zorder=-1)\n",
    "ax.plot(grid_b,u_func_opt,lw=2,linestyle='-',color='red',label='Utility function',zorder=-1)\n",
    "ax.plot(grid,budget_line_tax,lw=2,linestyle='-',color='black',zorder=-1)\n",
    "ax.plot(grid,budget_line_tax_com,lw=2,linestyle='--',color='black',label='Compensated budget constraint',zorder=-1)\n",
    "ax.plot(grid_b_tax,u_func_opt_tax,lw=2,linestyle='-',color='red',zorder=-1)\n",
    "\n",
    "\n",
    "plt.scatter(optimal_h, optimal_x, s=100, zorder=1,marker=\"o\",color='blue')\n",
    "plt.annotate('$A$',xy=(optimal_h, optimal_x),xytext=(-7,10),textcoords='offset points',fontsize=20)\n",
    "\n",
    "plt.scatter(optimal_h_com, optimal_x_com, s=100,zorder=1, marker=\"o\",color='blue')\n",
    "plt.annotate('$B$',xy=(optimal_h_com, optimal_x_com),xytext=(-7,10),textcoords='offset points',fontsize=20,)\n",
    "\n",
    "plt.scatter(optimal_h_tax, optimal_x_tax, s=100, zorder=1,marker=\"o\",color='blue')\n",
    "plt.annotate('$C$',xy=(optimal_h_tax, optimal_x_tax),xytext=(-7,10),textcoords='offset points',fontsize=20,)\n",
    "\n",
    "plt.text(0.1, 7.5,'$A$ to $B$: Substition effect \\n$B$ to $C$: Income effect \\n$A$ to $C$: Total effect', fontsize=20)\n",
    "\n",
    "ax.set_ylim([0,10]);\n",
    "ax.legend(loc='lower right',fontsize=15)\n",
    "\n",
    "ax.set_xlabel('$h$',fontsize=20)\n",
    "ax.set_ylabel('$x$',fontsize=20)\n",
    "ax.set_title('Optimum',fontsize=30)\n",
    "plt.show()"
   ]
  },
  {
   "cell_type": "markdown",
   "metadata": {},
   "source": [
    "# Optimize the utility numerically"
   ]
  },
  {
   "cell_type": "markdown",
   "metadata": {},
   "source": [
    "We use the utility-function expressed only as a function $h$"
   ]
  },
  {
   "cell_type": "code",
   "execution_count": 13,
   "metadata": {},
   "outputs": [],
   "source": [
    "#make the utility function into a python function\n",
    "def _utility_func(h):\n",
    "    return (1-0.2)*10*h-1+2+(1/(1+1/(-0.5)))*(1-h)**(1+1/(-0.5))\n",
    "def utility_func(x):\n",
    "    #add a -1 to convert the maximization problem into a minimization problem\n",
    "    return -1*_utility_func(x[0])\n"
   ]
  },
  {
   "cell_type": "code",
   "execution_count": 14,
   "metadata": {},
   "outputs": [
    {
     "name": "stderr",
     "output_type": "stream",
     "text": [
      "/Users/sandrusurendran/anaconda3/lib/python3.7/site-packages/ipykernel_launcher.py:3: RuntimeWarning: divide by zero encountered in reciprocal\n",
      "  This is separate from the ipykernel package so we can avoid doing imports until\n"
     ]
    },
    {
     "data": {
      "text/plain": [
       "Text(0.5, 1.0, 'Optimum')"
      ]
     },
     "execution_count": 14,
     "metadata": {},
     "output_type": "execute_result"
    },
    {
     "data": {
      "image/png": "[encoded data removed]",
      "text/plain": [
       "<Figure size 432x288 with 1 Axes>"
      ]
     },
     "metadata": {
      "needs_background": "light"
     },
     "output_type": "display_data"
    }
   ],
   "source": [
    "# evaluate the utility function \n",
    "u_grid=_utility_func(grid)\n",
    "\n",
    "#plot the utility function\n",
    "fig = plt.figure()\n",
    "ax = fig.add_subplot(1,1,1)\n",
    "\n",
    "ax.plot(grid,u_grid,lw=1,label='Budget constraint')\n",
    "\n",
    "ax.set_ylim([-5,5]);\n",
    "ax.legend(loc='lower right')\n",
    "\n",
    "ax.set_xlabel('$h$')\n",
    "ax.set_ylabel('$Utility$')\n",
    "ax.set_title('Optimum')"
   ]
  },
  {
   "cell_type": "code",
   "execution_count": 15,
   "metadata": {},
   "outputs": [
    {
     "name": "stdout",
     "output_type": "stream",
     "text": [
      "Optimization terminated successfully.\n",
      "         Current function value: -3.343146\n",
      "         Iterations: 6\n",
      "         Function evaluations: 27\n",
      "         Gradient evaluations: 9\n",
      "Optimmal hours worked: 0.6464465637096602\n"
     ]
    }
   ],
   "source": [
    "x0 = [0.2]\n",
    "result = optimize.minimize(utility_func,x0,\n",
    "                           method='BFGS',\n",
    "                           options={'disp':True}) # display the results\n",
    "\n",
    "optimal_h_num=result.x\n",
    "optimal_u_num=(-1)*result.fun\n",
    "print(f'Optimmal hours worked: {optimal_h_num[0]}')\n"
   ]
  },
  {
   "cell_type": "code",
   "execution_count": null,
   "metadata": {},
   "outputs": [],
   "source": []
  },
  {
   "cell_type": "code",
   "execution_count": null,
   "metadata": {},
   "outputs": [],
   "source": []
  },
  {
   "cell_type": "code",
   "execution_count": null,
   "metadata": {},
   "outputs": [],
   "source": []
  },
  {
   "cell_type": "code",
   "execution_count": null,
   "metadata": {},
   "outputs": [],
   "source": []
  },
  {
   "cell_type": "code",
   "execution_count": null,
   "metadata": {},
   "outputs": [],
   "source": []
  },
  {
   "cell_type": "code",
   "execution_count": null,
   "metadata": {},
   "outputs": [],
   "source": []
  },
  {
   "cell_type": "code",
   "execution_count": null,
   "metadata": {},
   "outputs": [],
   "source": []
  },
  {
   "cell_type": "code",
   "execution_count": null,
   "metadata": {},
   "outputs": [],
   "source": []
  }
 ],
 "metadata": {
  "kernelspec": {
   "display_name": "Python 3",
   "language": "python",
   "name": "python3"
  },
  "language_info": {
   "codemirror_mode": {
    "name": "ipython",
    "version": 3
   },
   "file_extension": ".py",
   "mimetype": "text/x-python",
   "name": "python",
   "nbconvert_exporter": "python",
   "pygments_lexer": "ipython3",
   "version": "3.7.1"
  }
 },
 "nbformat": 4,
 "nbformat_minor": 2
}
